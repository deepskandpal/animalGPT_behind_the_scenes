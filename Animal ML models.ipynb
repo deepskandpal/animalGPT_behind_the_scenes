{
 "cells": [
  {
   "cell_type": "code",
   "execution_count": 1,
   "id": "83b2361e-1a7c-4982-b2b6-3c739e5ad482",
   "metadata": {},
   "outputs": [
    {
     "name": "stderr",
     "output_type": "stream",
     "text": [
      "/Users/deepanshu.kandpal/Library/Caches/pypoetry/virtualenvs/llm-HD53qjaz-py3.11/lib/python3.11/site-packages/tqdm/auto.py:21: TqdmWarning: IProgress not found. Please update jupyter and ipywidgets. See https://ipywidgets.readthedocs.io/en/stable/user_install.html\n",
      "  from .autonotebook import tqdm as notebook_tqdm\n"
     ]
    }
   ],
   "source": [
    "from transformers import GPT2LMHeadModel, GPT2Tokenizer\n"
   ]
  },
  {
   "cell_type": "code",
   "execution_count": 2,
   "id": "34094a98-8bf9-427d-8081-caa93a8f969b",
   "metadata": {
    "collapsed": true,
    "jupyter": {
     "outputs_hidden": true
    },
    "scrolled": true
   },
   "outputs": [
    {
     "name": "stdout",
     "output_type": "stream",
     "text": [
      "\n",
      "    _|    _|  _|    _|    _|_|_|    _|_|_|  _|_|_|  _|      _|    _|_|_|      _|_|_|_|    _|_|      _|_|_|  _|_|_|_|\n",
      "    _|    _|  _|    _|  _|        _|          _|    _|_|    _|  _|            _|        _|    _|  _|        _|\n",
      "    _|_|_|_|  _|    _|  _|  _|_|  _|  _|_|    _|    _|  _|  _|  _|  _|_|      _|_|_|    _|_|_|_|  _|        _|_|_|\n",
      "    _|    _|  _|    _|  _|    _|  _|    _|    _|    _|    _|_|  _|    _|      _|        _|    _|  _|        _|\n",
      "    _|    _|    _|_|      _|_|_|    _|_|_|  _|_|_|  _|      _|    _|_|_|      _|        _|    _|    _|_|_|  _|_|_|_|\n",
      "\n",
      "    A token is already saved on your machine. Run `huggingface-cli whoami` to get more information or `huggingface-cli logout` if you want to log out.\n",
      "    Setting a new token will erase the existing one.\n",
      "    To login, `huggingface_hub` requires a token generated from https://huggingface.co/settings/tokens .\n",
      "Token: Traceback (most recent call last):\n",
      "  File \"/Users/deepanshu.kandpal/Library/Caches/pypoetry/virtualenvs/llm-HD53qjaz-py3.11/bin/huggingface-cli\", line 8, in <module>\n",
      "    sys.exit(main())\n",
      "             ^^^^^^\n",
      "  File \"/Users/deepanshu.kandpal/Library/Caches/pypoetry/virtualenvs/llm-HD53qjaz-py3.11/lib/python3.11/site-packages/huggingface_hub/commands/huggingface_cli.py\", line 49, in main\n",
      "    service.run()\n",
      "  File \"/Users/deepanshu.kandpal/Library/Caches/pypoetry/virtualenvs/llm-HD53qjaz-py3.11/lib/python3.11/site-packages/huggingface_hub/commands/user.py\", line 98, in run\n",
      "    login(token=self.args.token, add_to_git_credential=self.args.add_to_git_credential)\n",
      "  File \"/Users/deepanshu.kandpal/Library/Caches/pypoetry/virtualenvs/llm-HD53qjaz-py3.11/lib/python3.11/site-packages/huggingface_hub/_login.py\", line 112, in login\n",
      "    interpreter_login(new_session=new_session, write_permission=write_permission)\n",
      "  File \"/Users/deepanshu.kandpal/Library/Caches/pypoetry/virtualenvs/llm-HD53qjaz-py3.11/lib/python3.11/site-packages/huggingface_hub/_login.py\", line 167, in interpreter_login\n",
      "    token = getpass(\"Token: \")\n",
      "            ^^^^^^^^^^^^^^^^^^\n",
      "  File \"/Library/Frameworks/Python.framework/Versions/3.11/lib/python3.11/getpass.py\", line 77, in unix_getpass\n",
      "    passwd = _raw_input(prompt, stream, input=input)\n",
      "             ^^^^^^^^^^^^^^^^^^^^^^^^^^^^^^^^^^^^^^^\n",
      "  File \"/Library/Frameworks/Python.framework/Versions/3.11/lib/python3.11/getpass.py\", line 146, in _raw_input\n",
      "    line = input.readline()\n",
      "           ^^^^^^^^^^^^^^^^\n",
      "KeyboardInterrupt\n"
     ]
    }
   ],
   "source": [
    "!huggingface-cli login"
   ]
  },
  {
   "cell_type": "markdown",
   "id": "6cea17cf-98ee-4306-81f5-5e0e4722c613",
   "metadata": {},
   "source": [
    "# Generate dummy data"
   ]
  },
  {
   "cell_type": "code",
   "execution_count": 1,
   "id": "e61566bf-b8fd-4503-82f0-e6a7e7f593cc",
   "metadata": {},
   "outputs": [
    {
     "name": "stdout",
     "output_type": "stream",
     "text": [
      "Dummy dataset saved to film_reviews_dataset.txt\n"
     ]
    }
   ],
   "source": [
    "import random\n",
    "\n",
    "# Dummy dataset generation for film reviews\n",
    "def generate_film_reviews(num_reviews=100, max_review_length=200):\n",
    "    positive_adjectives = [\"amazing\", \"fantastic\", \"captivating\", \"outstanding\", \"excellent\"]\n",
    "    negative_adjectives = [\"disappointing\", \"boring\", \"predictable\", \"mediocre\", \"unimpressive\"]\n",
    "    movies = [\"The Midnight Star\", \"Dreamscape\", \"Eternal Echo\", \"Lost Horizon\", \"Whispering Shadows\"]\n",
    "\n",
    "    reviews = []\n",
    "\n",
    "    for _ in range(num_reviews):\n",
    "        movie = random.choice(movies)\n",
    "        rating = random.randint(1, 10)\n",
    "        adjective = random.choice(positive_adjectives) if rating > 5 else random.choice(negative_adjectives)\n",
    "        review_text = f\"{movie} is {adjective}! I would give it a {rating}/10. \"\n",
    "        review_text += \" \".join([\"This movie\", \"exceeded my expectations.\", \"Highly recommended!\", \"A must-watch!\"] * random.randint(1, 3))\n",
    "        review_text += \"\\n\\n\"\n",
    "\n",
    "        # Trim the review if it exceeds the max length\n",
    "        review_text = review_text[:max_review_length]\n",
    "\n",
    "        reviews.append(review_text)\n",
    "\n",
    "    return reviews\n",
    "\n",
    "# Save the dummy dataset to a file\n",
    "dummy_reviews = generate_film_reviews()\n",
    "dataset_path = \"film_reviews_dataset.txt\"\n",
    "\n",
    "with open(dataset_path, \"w\", encoding=\"utf-8\") as file:\n",
    "    file.writelines(dummy_reviews)\n",
    "\n",
    "print(f\"Dummy dataset saved to {dataset_path}\")\n"
   ]
  },
  {
   "cell_type": "markdown",
   "id": "c7248d2a-57ff-4cfa-86ba-cdbf88375368",
   "metadata": {},
   "source": [
    "# Train dummy model"
   ]
  },
  {
   "cell_type": "code",
   "execution_count": 16,
   "id": "0fdc4844-589c-4b48-868a-754db3b41f45",
   "metadata": {},
   "outputs": [
    {
     "name": "stderr",
     "output_type": "stream",
     "text": [
      "/Users/deepanshu.kandpal/Library/Caches/pypoetry/virtualenvs/llm-r-8tQ7me-py3.9/lib/python3.9/site-packages/transformers/data/datasets/language_modeling.py:53: FutureWarning: This dataset will be removed from the library soon, preprocessing should be handled with the 🤗 Datasets library. You can have a look at this example script for pointers: https://github.com/huggingface/transformers/blob/main/examples/pytorch/language-modeling/run_mlm.py\n",
      "  warnings.warn(\n"
     ]
    },
    {
     "data": {
      "text/html": [
       "\n",
       "    <div>\n",
       "      \n",
       "      <progress value='21' max='21' style='width:300px; height:20px; vertical-align: middle;'></progress>\n",
       "      [21/21 01:20, Epoch 3/3]\n",
       "    </div>\n",
       "    <table border=\"1\" class=\"dataframe\">\n",
       "  <thead>\n",
       " <tr style=\"text-align: left;\">\n",
       "      <th>Step</th>\n",
       "      <th>Training Loss</th>\n",
       "    </tr>\n",
       "  </thead>\n",
       "  <tbody>\n",
       "  </tbody>\n",
       "</table><p>"
      ],
      "text/plain": [
       "<IPython.core.display.HTML object>"
      ]
     },
     "metadata": {},
     "output_type": "display_data"
    },
    {
     "data": {
      "text/plain": [
       "('./film_reviews_fine_tuned_v2/tokenizer_config.json',\n",
       " './film_reviews_fine_tuned_v2/special_tokens_map.json',\n",
       " './film_reviews_fine_tuned_v2/vocab.json',\n",
       " './film_reviews_fine_tuned_v2/merges.txt',\n",
       " './film_reviews_fine_tuned_v2/added_tokens.json')"
      ]
     },
     "execution_count": 16,
     "metadata": {},
     "output_type": "execute_result"
    }
   ],
   "source": [
    "from transformers import GPT2Tokenizer, GPT2LMHeadModel\n",
    "from transformers import TextDataset, DataCollatorForLanguageModeling\n",
    "from transformers import Trainer, TrainingArguments\n",
    "\n",
    "# Load pre-trained GPT-2 model and tokenizer\n",
    "model_name = \"gpt2\"\n",
    "tokenizer = GPT2Tokenizer.from_pretrained(model_name)\n",
    "model = GPT2LMHeadModel.from_pretrained(model_name)\n",
    "\n",
    "# Load your custom film reviews dataset\n",
    "dataset_path = \"./movie_reviews_dataset/reviews_1.txt\"\n",
    "train_dataset = TextDataset(\n",
    "    tokenizer=tokenizer,\n",
    "    file_path=dataset_path,\n",
    "    block_size=128,  # Adjust the block size according to your dataset\n",
    ")\n",
    "\n",
    "# Use the default data collator for language modeling\n",
    "data_collator = DataCollatorForLanguageModeling(\n",
    "    tokenizer=tokenizer, mlm=False\n",
    ")\n",
    "\n",
    "# Define training arguments\n",
    "training_args = TrainingArguments(\n",
    "    output_dir=\"./film_reviews_fine_tuned_v2\",\n",
    "    overwrite_output_dir=True,\n",
    "    num_train_epochs=3,\n",
    "    per_device_train_batch_size=4,\n",
    "    save_steps=10_000,\n",
    "    save_total_limit=2,\n",
    ")\n",
    "\n",
    "# Create Trainer instance\n",
    "trainer = Trainer(\n",
    "    model=model,\n",
    "    args=training_args,\n",
    "    data_collator=data_collator,\n",
    "    train_dataset=train_dataset,\n",
    ")\n",
    "\n",
    "# Fine-tune the model\n",
    "trainer.train()\n",
    "\n",
    "# Save the fine-tuned model\n",
    "model.save_pretrained(\"./film_reviews_fine_tuned_v2\")\n",
    "tokenizer.save_pretrained(\"./film_reviews_fine_tuned_v2\")\n"
   ]
  },
  {
   "cell_type": "markdown",
   "id": "b58cd112-3b1d-4f85-af5b-7dd99995c3e6",
   "metadata": {},
   "source": [
    "# Prediction : Text Generation"
   ]
  },
  {
   "cell_type": "code",
   "execution_count": 11,
   "id": "07692190-acd5-4e0c-9a5b-db9e84647d89",
   "metadata": {},
   "outputs": [
    {
     "name": "stderr",
     "output_type": "stream",
     "text": [
      "Setting `pad_token_id` to `eos_token_id`:50256 for open-end generation.\n"
     ]
    },
    {
     "name": "stdout",
     "output_type": "stream",
     "text": [
      "Generated Film Review:\n",
      "The movie I watched yesterday was a bit of a disappointment, but it's still a great movie. It's a very good movie, and I'm glad that it's been made.\n",
      "\n",
      "The movie is a bit of a mess, but it's still a great movie.\n",
      "\n",
      "The movie is a bit of a mess, but it's still a great movie.\n",
      "\n",
      "The movie is a bit of a mess, but it's still a great movie.\n",
      "\n",
      "The movie is a bit of a mess, but it's still a great movie.\n",
      "\n",
      "The movie is a bit of a mess, but it's still a great movie.\n",
      "\n",
      "The movie is a bit of a mess, but it's still a great movie\n"
     ]
    }
   ],
   "source": [
    "from transformers import GPT2LMHeadModel, GPT2Tokenizer, pipeline\n",
    "\n",
    "# Load the fine-tuned model and tokenizer\n",
    "model_path = \"./film_reviews_fine_tuned_v1\"\n",
    "tokenizer = GPT2Tokenizer.from_pretrained(model_path)\n",
    "model = GPT2LMHeadModel.from_pretrained(model_path)\n",
    "\n",
    "# Set the model to evaluation mode\n",
    "model.eval()\n",
    "\n",
    "# Define a text generation pipeline\n",
    "text_generator = pipeline('text-generation', model=model, tokenizer=tokenizer)\n",
    "\n",
    "# Prompt for text generation\n",
    "prompt = \"The movie I watched yesterday was\"\n",
    "\n",
    "# Generate film review\n",
    "generated_review = text_generator(prompt, max_length=150, num_return_sequences=1, temperature=0.1)[0]['generated_text']\n",
    "\n",
    "# Print the generated review\n",
    "print(\"Generated Film Review:\")\n",
    "print(generated_review)\n"
   ]
  },
  {
   "cell_type": "markdown",
   "id": "70294fa3-583d-4afa-a147-440aa0511d90",
   "metadata": {},
   "source": [
    "# Prediction : Conversation Bot"
   ]
  },
  {
   "cell_type": "code",
   "execution_count": 24,
   "id": "b18a23ad-1630-42a0-b39a-c0efb714be7d",
   "metadata": {},
   "outputs": [
    {
     "name": "stdout",
     "output_type": "stream",
     "text": [
      "Movie Bot: Hi there! Let's talk about movies. You can type 'exit' to end the conversation.\n"
     ]
    },
    {
     "name": "stdin",
     "output_type": "stream",
     "text": [
      "You:  give your review of animal movie\n"
     ]
    },
    {
     "name": "stderr",
     "output_type": "stream",
     "text": [
      "Setting `pad_token_id` to `eos_token_id`:50256 for open-end generation.\n"
     ]
    },
    {
     "name": "stdout",
     "output_type": "stream",
     "text": [
      "Movie Bot: give your review of animal movie. (You can also use our review guidelines here.)\n",
      "\n",
      "The film has a lot to offer, but it is also a little bit of a shame that the main character is a man. He is, after all, a man who has been raised by his mother and father, but who has been raised by his father in an abusive household. He is also, as one of the main characters points out, a man who has been raised as a child.\n",
      "\n",
      "The plot is a bit predictable, but it is a bit of a disappointment. The main character is a child and he is not a father, but rather a man who is given an ultimatum: he will kill his father or he will\n"
     ]
    },
    {
     "name": "stdin",
     "output_type": "stream",
     "text": [
      "You:  give your thought's on ranbir kapoor's performance\n"
     ]
    },
    {
     "name": "stderr",
     "output_type": "stream",
     "text": [
      "Setting `pad_token_id` to `eos_token_id`:50256 for open-end generation.\n"
     ]
    },
    {
     "name": "stdout",
     "output_type": "stream",
     "text": [
      "Movie Bot: give your thought's on ranbir kapoor's performance, or maybe you don't even know what a runbir kapoor is.\n",
      "\n",
      "Kapoor is a very unique character. He is a bit like a rock star, but at the same time, he is a man who has his own unique story. His role as a father figure is not only important but also something that is very important to the story.\n",
      "\n",
      "Kapoor is a man who has a lot of baggage. The fact that he is a father figure is a huge part of his identity. It is important to know that he is a man who has become a father figure for his son. This is a story where K. is the only\n"
     ]
    },
    {
     "name": "stdin",
     "output_type": "stream",
     "text": [
      "You:  exit\n"
     ]
    },
    {
     "name": "stdout",
     "output_type": "stream",
     "text": [
      "Movie Bot: Goodbye!\n"
     ]
    }
   ],
   "source": [
    "from transformers import GPT2LMHeadModel, GPT2Tokenizer, pipeline\n",
    "\n",
    "# Load the fine-tuned model and tokenizer\n",
    "model_path = \"./film_reviews_fine_tuned_v2\"\n",
    "tokenizer = GPT2Tokenizer.from_pretrained(model_path)\n",
    "model = GPT2LMHeadModel.from_pretrained(model_path)\n",
    "\n",
    "# Set the model to evaluation mode\n",
    "model.eval()\n",
    "\n",
    "# Define a text generation pipeline\n",
    "text_generator = pipeline('text-generation', model=model, tokenizer=tokenizer)\n",
    "\n",
    "# Start a conversation with the user\n",
    "print(\"Movie Bot: Hi there! Let's talk about Animal. You can type 'exit' to end the conversation.\")\n",
    "\n",
    "while True:\n",
    "    # Get user input\n",
    "    user_input = input(\"You: \")\n",
    "\n",
    "    # Check for exit condition\n",
    "    if user_input.lower() == 'exit':\n",
    "        print(\"Movie Bot: Goodbye!\")\n",
    "        break\n",
    "\n",
    "    # Generate response\n",
    "    generated_response = text_generator(user_input, top_k=50, top_p=0.95, max_length=150, num_return_sequences=3, temperature=0.6)[0]['generated_text']\n",
    "\n",
    "    # Print the bot's response\n",
    "    print(\"Movie Bot:\", generated_response)\n"
   ]
  },
  {
   "cell_type": "markdown",
   "id": "a95655a4-4d19-4aee-ac4f-90ef025e01fc",
   "metadata": {},
   "source": [
    "# DIALOGPT "
   ]
  },
  {
   "cell_type": "code",
   "execution_count": 13,
   "id": "7b0dcdc1-ecec-413d-9646-23ce2e0c64ce",
   "metadata": {},
   "outputs": [
    {
     "name": "stderr",
     "output_type": "stream",
     "text": [
      "tokenizer_config.json: 100%|████████████████████████████████████████████████████████████████████████████████| 26.0/26.0 [00:00<00:00, 2.93kB/s]\n",
      "config.json: 100%|█████████████████████████████████████████████████████████████████████████████████████████████| 642/642 [00:00<00:00, 286kB/s]\n",
      "vocab.json: 100%|█████████████████████████████████████████████████████████████████████████████████████████| 1.04M/1.04M [00:00<00:00, 1.18MB/s]\n",
      "merges.txt: 100%|████████████████████████████████████████████████████████████████████████████████████████████| 456k/456k [00:00<00:00, 774kB/s]\n",
      "pytorch_model.bin: 100%|██████████████████████████████████████████████████████████████████████████████████| 1.75G/1.75G [02:33<00:00, 11.4MB/s]\n",
      "generation_config.json: 100%|█████████████████████████████████████████████████████████████████████████████████| 124/124 [00:00<00:00, 19.6kB/s]\n"
     ]
    }
   ],
   "source": [
    "from transformers import AutoModelForCausalLM, AutoTokenizer\n",
    "import torch\n",
    "\n",
    "\n",
    "tokenizer = AutoTokenizer.from_pretrained(\"microsoft/DialoGPT-large\")\n",
    "model = AutoModelForCausalLM.from_pretrained(\"microsoft/DialoGPT-large\")\n"
   ]
  },
  {
   "cell_type": "code",
   "execution_count": 14,
   "id": "36ecb3ab-41e9-4368-82e3-38cdd7a12abc",
   "metadata": {},
   "outputs": [
    {
     "name": "stdin",
     "output_type": "stream",
     "text": [
      ">> User: hi\n"
     ]
    },
    {
     "name": "stderr",
     "output_type": "stream",
     "text": [
      "A decoder-only architecture is being used, but right-padding was detected! For correct generation results, please set `padding_side='left'` when initializing the tokenizer.\n"
     ]
    },
    {
     "name": "stdout",
     "output_type": "stream",
     "text": [
      "DialoGPT: hi\n"
     ]
    },
    {
     "name": "stdin",
     "output_type": "stream",
     "text": [
      ">> User: what are you good at\n"
     ]
    },
    {
     "name": "stderr",
     "output_type": "stream",
     "text": [
      "A decoder-only architecture is being used, but right-padding was detected! For correct generation results, please set `padding_side='left'` when initializing the tokenizer.\n"
     ]
    },
    {
     "name": "stdout",
     "output_type": "stream",
     "text": [
      "DialoGPT: i can play guitar\n"
     ]
    },
    {
     "name": "stdin",
     "output_type": "stream",
     "text": [
      ">> User: do you know about animal movie\n"
     ]
    },
    {
     "name": "stderr",
     "output_type": "stream",
     "text": [
      "A decoder-only architecture is being used, but right-padding was detected! For correct generation results, please set `padding_side='left'` when initializing the tokenizer.\n"
     ]
    },
    {
     "name": "stdout",
     "output_type": "stream",
     "text": [
      "DialoGPT: i do\n"
     ]
    },
    {
     "name": "stdin",
     "output_type": "stream",
     "text": [
      ">> User: what is the story\n"
     ]
    },
    {
     "name": "stderr",
     "output_type": "stream",
     "text": [
      "A decoder-only architecture is being used, but right-padding was detected! For correct generation results, please set `padding_side='left'` when initializing the tokenizer.\n"
     ]
    },
    {
     "name": "stdout",
     "output_type": "stream",
     "text": [
      "DialoGPT: i have no idea\n"
     ]
    },
    {
     "name": "stdin",
     "output_type": "stream",
     "text": [
      ">> User: awesome\n"
     ]
    },
    {
     "name": "stderr",
     "output_type": "stream",
     "text": [
      "A decoder-only architecture is being used, but right-padding was detected! For correct generation results, please set `padding_side='left'` when initializing the tokenizer.\n"
     ]
    },
    {
     "name": "stdout",
     "output_type": "stream",
     "text": [
      "DialoGPT: i am glad\n"
     ]
    }
   ],
   "source": [
    "# Let's chat for 5 lines\n",
    "for step in range(5):\n",
    "    # encode the new user input, add the eos_token and return a tensor in Pytorch\n",
    "    new_user_input_ids = tokenizer.encode(input(\">> User:\") + tokenizer.eos_token, return_tensors='pt')\n",
    "\n",
    "    # append the new user input tokens to the chat history\n",
    "    bot_input_ids = torch.cat([chat_history_ids, new_user_input_ids], dim=-1) if step > 0 else new_user_input_ids\n",
    "\n",
    "    # generated a response while limiting the total chat history to 1000 tokens, \n",
    "    chat_history_ids = model.generate(bot_input_ids, max_length=1000, pad_token_id=tokenizer.eos_token_id)\n",
    "\n",
    "    # pretty print last ouput tokens from bot\n",
    "    print(\"DialoGPT: {}\".format(tokenizer.decode(chat_history_ids[:, bot_input_ids.shape[-1]:][0], skip_special_tokens=True)))"
   ]
  },
  {
   "cell_type": "code",
   "execution_count": null,
   "id": "9c74de46-8959-4f68-9438-10e77baefdac",
   "metadata": {},
   "outputs": [],
   "source": []
  }
 ],
 "metadata": {
  "kernelspec": {
   "display_name": "Python 3 (ipykernel)",
   "language": "python",
   "name": "python3"
  },
  "language_info": {
   "codemirror_mode": {
    "name": "ipython",
    "version": 3
   },
   "file_extension": ".py",
   "mimetype": "text/x-python",
   "name": "python",
   "nbconvert_exporter": "python",
   "pygments_lexer": "ipython3",
   "version": "3.11.6"
  }
 },
 "nbformat": 4,
 "nbformat_minor": 5
}
